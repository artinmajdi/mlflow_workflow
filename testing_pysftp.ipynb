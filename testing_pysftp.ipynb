{
 "metadata": {
  "language_info": {
   "codemirror_mode": {
    "name": "ipython",
    "version": 3
   },
   "file_extension": ".py",
   "mimetype": "text/x-python",
   "name": "python",
   "nbconvert_exporter": "python",
   "pygments_lexer": "ipython3",
   "version": "3.7.9-final"
  },
  "orig_nbformat": 2,
  "kernelspec": {
   "name": "python3",
   "display_name": "Python 3",
   "language": "python"
  }
 },
 "nbformat": 4,
 "nbformat_minor": 2,
 "cells": [
  {
   "cell_type": "code",
   "execution_count": 1,
   "metadata": {},
   "outputs": [],
   "source": [
    "import sqlalchemy\n",
    "import pandas as pd\n",
    "import pysftp\n",
    "\n",
    "data = pd.read_csv('test.csv')\n",
    "engine = sqlalchemy.create_engine(\"postgresql://artinmajdi@data7-db1.cyverse.org/phyto_oracle_db\")\n",
    "# data.to_sql(engine, 'classification', if_exists='append', index=False)"
   ]
  },
  {
   "cell_type": "code",
   "execution_count": 3,
   "metadata": {},
   "outputs": [],
   "source": [
    "import base64 \n",
    "import paramiko\n",
    "# (paramiko.hostkeys.HostKeys())\n",
    "# keydata = b'Go4vWpe0Jzy+fm0wgtCASedYdvPVczzO0JGPYWQQPLg'\n",
    "# keydata\n",
    "# base64.decodebytes(keydata)\n",
    "\n",
    "# key = paramiko.RSAKey(data=base64.decodebytes(keydata))\n",
    "# paramiko.RSAKey(data=b'Go4vWpe0Jzy+fm0wgtCASedYdvPVczzO0JGPYWQQPLg',)\n",
    "\n",
    "\n",
    "# cnopts = pysftp.CnOpts()\n",
    "# cnopts.hostkeys.add('example.com', 'ssh-rsa', key)\n",
    "\n",
    "# cnopts = pysftp.CnOpts(knownhosts='known_hosts',)\n",
    "# cnopts.hostkeys\n",
    "# paramiko.hostkeys.HostKeys()\n",
    "# cnopts.hostkeys = '3072 SHA256:Go4vWpe0Jzy+fm0wgtCASedYdvPVczzO0JGPYWQQPLg root@data7-db1 (RSA)'\n",
    "\n",
    "p = pysftp.Connection('data7-db1.cyverse.org', username='artinmajdi', password='temp_data7')\n",
    "\n",
    "# sftp.listdir()"
   ]
  },
  {
   "cell_type": "code",
   "execution_count": 4,
   "metadata": {},
   "outputs": [
    {
     "output_type": "error",
     "ename": "TypeError",
     "evalue": "chdir() missing 1 required positional argument: 'remotepath'",
     "traceback": [
      "\u001b[0;31m---------------------------------------------------------------------------\u001b[0m",
      "\u001b[0;31mTypeError\u001b[0m                                 Traceback (most recent call last)",
      "\u001b[0;32m<ipython-input-4-d5a0ac338269>\u001b[0m in \u001b[0;36m<module>\u001b[0;34m\u001b[0m\n\u001b[0;32m----> 1\u001b[0;31m \u001b[0mp\u001b[0m\u001b[0;34m.\u001b[0m\u001b[0mcwd\u001b[0m\u001b[0;34m(\u001b[0m\u001b[0;34m)\u001b[0m\u001b[0;34m\u001b[0m\u001b[0;34m\u001b[0m\u001b[0m\n\u001b[0m",
      "\u001b[0;31mTypeError\u001b[0m: chdir() missing 1 required positional argument: 'remotepath'"
     ]
    }
   ],
   "source": [
    "p.cwd()\n"
   ]
  },
  {
   "cell_type": "code",
   "execution_count": null,
   "metadata": {},
   "outputs": [],
   "source": []
  }
 ]
}