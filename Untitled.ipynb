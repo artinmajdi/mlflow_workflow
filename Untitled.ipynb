{
 "metadata": {
  "language_info": {
   "codemirror_mode": {
    "name": "ipython",
    "version": 3
   },
   "file_extension": ".py",
   "mimetype": "text/x-python",
   "name": "python",
   "nbconvert_exporter": "python",
   "pygments_lexer": "ipython3",
   "version": "3.7.9-final"
  },
  "orig_nbformat": 2,
  "kernelspec": {
   "name": "python3",
   "display_name": "Python 3",
   "language": "python"
  }
 },
 "nbformat": 4,
 "nbformat_minor": 2,
 "cells": [
  {
   "cell_type": "code",
   "execution_count": null,
   "metadata": {},
   "outputs": [],
   "source": [
    "import sqlalchemy\n",
    "import pandas as pd\n",
    "data = pd.read_excel(fh, sheet_name=sheetname)\n",
    "engine = sqlalchemy.create_engine(\"postgresql://username@hostname/dbname\")\n",
    "data.to_sql(engine, 'classification', if_exists='append', index=False)"
   ]
  },
  {
   "cell_type": "code",
   "execution_count": 1,
   "metadata": {},
   "outputs": [],
   "source": [
    "import pysftp"
   ]
  },
  {
   "cell_type": "code",
   "execution_count": 16,
   "metadata": {},
   "outputs": [
    {
     "output_type": "error",
     "ename": "SyntaxError",
     "evalue": "EOL while scanning string literal (<ipython-input-16-e1384545c2dd>, line 2)",
     "traceback": [
      "\u001b[0;36m  File \u001b[0;32m\"<ipython-input-16-e1384545c2dd>\"\u001b[0;36m, line \u001b[0;32m2\u001b[0m\n\u001b[0;31m    cnopts.hostkeys = \"ssh-rsa AAAAB3NzaC1yc2EAAAADAQABAAACAQCirSxnJflGq09qOSERB+IqQZNCmxq3821QgHCum0PO/3kNVDhPKq6Yd5FfB7QjnhLSpDCLRHHzSsSas72FKkUI4Pd4d8DcN7Jds/ClkOtKy5f6nJ93ITahmiyiZPbvyu/ydnWLHGWTKLesWJGMlWvzo613A7N94ghHCOmUk7WGr+GANsdnf71jN8v7IPvwgaMLgRnmIM2GdXx34qABRAp3z6DV56QtokbE7E4flOIhL/DCzT4WIBPydoLbOkiEERDOpixvCbBbd8PvjCjVQS0c3gHxjEm+HctOP9Q0EWT7n43Akvde+1nlH9oVG0ZQ63qr1cQoOLeu+4xmR+2YfBxDkIRz+QYZf1KRBzNxuraqlEfbrYW9Bopwfq2z5ciawFergTsxJwB+xlVf7Qt6+cMnjtotikhMfo5Jgy1Wi89ceA8aZhFoPU6v1VKKuFiJyTAljpszeNZkOwWR4hKdqDJwtuqIXUguygsk76cXKZyt1tUt11ZeueWLqhNZTQ4n7nSrLSbAh153uq9LKv3eN86PuZb4To2E1I7xCvL7tIiV9ZqUFuSrI9Py+4eWyo5aXljcRH9Fl3H5Q6F2tZSR+VS7iIFGdPm5m34W3E8IujpSAdMD5j7RwkMb5R09pm5U+oA6/HkP5PNkqznH75paG4l9/JqwO5vtqKCdioqhaWBx8Q== artinmac@dhcp-10-134-170-214.uawifi.arizona.edu\u001b[0m\n\u001b[0m                                                                                                                                                                                                                                                                                                                                                                                                                                                                                                                                                                                                                                                                                                                                                                                                                           ^\u001b[0m\n\u001b[0;31mSyntaxError\u001b[0m\u001b[0;31m:\u001b[0m EOL while scanning string literal\n"
     ]
    }
   ],
   "source": [
    "cnopts = pysftp.CnOpts()\n",
    "cnopts.hostkeys = None\n",
    "\n",
    "p = pysftp.Connection('data7-db1.cyverse.org', username='artinmajdi', password='ARtin2021!', port=1657, cnopts=cnopts)\n",
    "\n",
    "# sftp.listdir()"
   ]
  },
  {
   "cell_type": "code",
   "execution_count": 13,
   "metadata": {},
   "outputs": [
    {
     "output_type": "execute_result",
     "data": {
      "text/plain": [
       "False"
      ]
     },
     "metadata": {},
     "execution_count": 13
    }
   ],
   "source": [
    "p._sftp_live"
   ]
  },
  {
   "cell_type": "code",
   "execution_count": null,
   "metadata": {},
   "outputs": [],
   "source": []
  }
 ]
}